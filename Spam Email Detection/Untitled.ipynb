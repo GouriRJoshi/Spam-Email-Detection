{
 "cells": [
  {
   "cell_type": "code",
   "execution_count": 1,
   "id": "4a3ed2ca-fec8-4903-a9b1-2929012c4ef4",
   "metadata": {},
   "outputs": [],
   "source": [
    "import pandas as pd\n",
    "from sklearn.model_selection import train_test_split\n",
    "from sklearn.feature_extraction.text import TfidfVectorizer\n",
    "from sklearn.naive_bayes import MultinomialNB\n",
    "from sklearn.linear_model import LogisticRegression\n",
    "from sklearn.svm import LinearSVC\n",
    "from sklearn.metrics import accuracy_score, classification_report, confusion_matrix\n",
    "import matplotlib.pyplot as plt"
   ]
  },
  {
   "cell_type": "code",
   "execution_count": 2,
   "id": "e0efb09a-b079-45cf-a1d7-5a1b33a92777",
   "metadata": {},
   "outputs": [
    {
     "name": "stdout",
     "output_type": "stream",
     "text": [
      "Dataset Loaded\n",
      "                               email_id                      sender  \\\n",
      "0  f95de931-7770-4c5f-83bf-019c9757839f    noreply@workfromhome.biz   \n",
      "1  10199a4d-f36f-4bd4-8485-bbb4f946cc9f  billing@onlinewarranty.org   \n",
      "2  453c33d4-37e0-4bef-b5c4-2fff329acf94      offers@loanexpress.net   \n",
      "3  23f3ef8d-cf39-4895-91f6-1e3776e1374c        admin@intranet.local   \n",
      "4  b7a3e249-9c0c-48e2-becf-8c6bd248ecc5      manager@teamproject.io   \n",
      "\n",
      "                     subject  \\\n",
      "0          Win a Free iPhone   \n",
      "1          Win a Free iPhone   \n",
      "2          Win a Free iPhone   \n",
      "3        Team Lunch Reminder   \n",
      "4  Updated Document Attached   \n",
      "\n",
      "                                                text  spam  \n",
      "0  Claim your free iPhone by filling out this sho...     1  \n",
      "1  You have been selected for a limited time loan...     1  \n",
      "2  Your payment is pending. Click here to confirm...     1  \n",
      "3       Don't forget to submit your timesheet today.     0  \n",
      "4       Don't forget to submit your timesheet today.     0  \n"
     ]
    }
   ],
   "source": [
    "df = pd.read_csv(\"full_synthetic_spam_email_dataset.csv\")\n",
    "print(\"Dataset Loaded\")\n",
    "print(df.head())"
   ]
  },
  {
   "cell_type": "code",
   "execution_count": 3,
   "id": "09e2cef5-9355-4bb0-bbbf-fe0e8a280c9d",
   "metadata": {},
   "outputs": [],
   "source": [
    "X = df['text']\n",
    "y = df['spam']"
   ]
  },
  {
   "cell_type": "code",
   "execution_count": 4,
   "id": "7948ac10-7aca-472c-ab0d-a5a1d726ea80",
   "metadata": {},
   "outputs": [
    {
     "name": "stdout",
     "output_type": "stream",
     "text": [
      "\n",
      "TF-IDF vectorization complete. Shape: (1000, 94)\n"
     ]
    }
   ],
   "source": [
    "vectorizer = TfidfVectorizer(stop_words='english', max_df=0.7)\n",
    "X_vect = vectorizer.fit_transform(X)\n",
    "print(\"\\nTF-IDF vectorization complete. Shape:\", X_vect.shape)"
   ]
  },
  {
   "cell_type": "code",
   "execution_count": 5,
   "id": "32ff90fb-ce3e-4dd2-a5bf-e0b09b7a4ed9",
   "metadata": {},
   "outputs": [
    {
     "name": "stdout",
     "output_type": "stream",
     "text": [
      "\n",
      "Training samples: 800, Testing samples: 200\n"
     ]
    }
   ],
   "source": [
    "X_train, X_test, y_train, y_test = train_test_split(X_vect, y, test_size=0.2, random_state=42)\n",
    "print(f\"\\nTraining samples: {X_train.shape[0]}, Testing samples: {X_test.shape[0]}\")"
   ]
  },
  {
   "cell_type": "code",
   "execution_count": 6,
   "id": "0b266b43-392c-473a-ad70-39abc152b295",
   "metadata": {},
   "outputs": [
    {
     "name": "stdout",
     "output_type": "stream",
     "text": [
      "\n",
      "--- Naive Bayes Results ---\n",
      "Accuracy: 1.0\n",
      "              precision    recall  f1-score   support\n",
      "\n",
      "           0       1.00      1.00      1.00        95\n",
      "           1       1.00      1.00      1.00       105\n",
      "\n",
      "    accuracy                           1.00       200\n",
      "   macro avg       1.00      1.00      1.00       200\n",
      "weighted avg       1.00      1.00      1.00       200\n",
      "\n"
     ]
    }
   ],
   "source": [
    "nb = MultinomialNB()\n",
    "nb.fit(X_train, y_train)\n",
    "pred_nb = nb.predict(X_test)\n",
    "print(\"\\n--- Naive Bayes Results ---\")\n",
    "print(\"Accuracy:\", accuracy_score(y_test, pred_nb))\n",
    "print(classification_report(y_test, pred_nb))"
   ]
  },
  {
   "cell_type": "code",
   "execution_count": 7,
   "id": "321a0697-753e-44f6-9f66-d5e38041be2c",
   "metadata": {},
   "outputs": [
    {
     "name": "stdout",
     "output_type": "stream",
     "text": [
      "\n",
      "--- Logistic Regression Results ---\n",
      "Accuracy: 1.0\n",
      "              precision    recall  f1-score   support\n",
      "\n",
      "           0       1.00      1.00      1.00        95\n",
      "           1       1.00      1.00      1.00       105\n",
      "\n",
      "    accuracy                           1.00       200\n",
      "   macro avg       1.00      1.00      1.00       200\n",
      "weighted avg       1.00      1.00      1.00       200\n",
      "\n"
     ]
    }
   ],
   "source": [
    "lr = LogisticRegression()\n",
    "lr.fit(X_train, y_train)\n",
    "pred_lr = lr.predict(X_test)\n",
    "print(\"\\n--- Logistic Regression Results ---\")\n",
    "print(\"Accuracy:\", accuracy_score(y_test, pred_lr))\n",
    "print(classification_report(y_test, pred_lr))"
   ]
  },
  {
   "cell_type": "code",
   "execution_count": 8,
   "id": "82c96359-5a6c-464c-891b-7390ab1eaa1c",
   "metadata": {},
   "outputs": [
    {
     "name": "stdout",
     "output_type": "stream",
     "text": [
      "\n",
      "--- Support Vector Machine (SVM) Results ---\n",
      "Accuracy: 1.0\n",
      "              precision    recall  f1-score   support\n",
      "\n",
      "           0       1.00      1.00      1.00        95\n",
      "           1       1.00      1.00      1.00       105\n",
      "\n",
      "    accuracy                           1.00       200\n",
      "   macro avg       1.00      1.00      1.00       200\n",
      "weighted avg       1.00      1.00      1.00       200\n",
      "\n"
     ]
    }
   ],
   "source": [
    "svm = LinearSVC()\n",
    "svm.fit(X_train, y_train)\n",
    "pred_svm = svm.predict(X_test)\n",
    "print(\"\\n--- Support Vector Machine (SVM) Results ---\")\n",
    "print(\"Accuracy:\", accuracy_score(y_test, pred_svm))\n",
    "print(classification_report(y_test, pred_svm))"
   ]
  },
  {
   "cell_type": "code",
   "execution_count": 9,
   "id": "6e3ee552-5f69-40b1-8d06-0eb5cf6cd5a4",
   "metadata": {},
   "outputs": [],
   "source": [
    "models = ['Naive Bayes', 'Logistic Regression', 'SVM']\n",
    "accuracies = [\n",
    "    accuracy_score(y_test, pred_nb),\n",
    "    accuracy_score(y_test, pred_lr),\n",
    "    accuracy_score(y_test, pred_svm)\n",
    "]"
   ]
  },
  {
   "cell_type": "code",
   "execution_count": 11,
   "id": "0b3df998-4cfe-4ecf-8f04-ccdf8d3fe4fc",
   "metadata": {},
   "outputs": [
    {
     "data": {
      "image/png": "[encoded data removed]",
      "text/plain": [
       "<Figure size 600x400 with 1 Axes>"
      ]
     },
     "metadata": {},
     "output_type": "display_data"
    }
   ],
   "source": [
    "plt.figure(figsize=(6, 4))\n",
    "plt.bar(models, accuracies)\n",
    "plt.title(\"Model Accuracy Comparison\")\n",
    "plt.ylabel(\"Accuracy\")\n",
    "plt.ylim(0, 1)\n",
    "plt.grid(True)\n",
    "plt.show()"
   ]
  },
  {
   "cell_type": "code",
   "execution_count": null,
   "id": "075345c4-3422-4674-8747-9dad31a02647",
   "metadata": {},
   "outputs": [],
   "source": []
  }
 ],
 "metadata": {
  "kernelspec": {
   "display_name": "Python 3 (ipykernel)",
   "language": "python",
   "name": "python3"
  },
  "language_info": {
   "codemirror_mode": {
    "name": "ipython",
    "version": 3
   },
   "file_extension": ".py",
   "mimetype": "text/x-python",
   "name": "python",
   "nbconvert_exporter": "python",
   "pygments_lexer": "ipython3",
   "version": "3.12.7"
  }
 },
 "nbformat": 4,
 "nbformat_minor": 5
}
